{
 "cells": [
  {
   "cell_type": "markdown",
   "metadata": {},
   "source": [
    "## Conclusion"
   ]
  },
  {
   "cell_type": "markdown",
   "metadata": {},
   "source": [
    "- Data representation\n",
    "- `Estimators`\n",
    "    - LinearRegression\n",
    "    - KNeighborsRegressor\n",
    "    - LogisticRegression\n",
    "    - KNeighborsClassifier\n",
    "    - Ridge\n",
    "    - Lasso\n",
    "    - PCA\n",
    "    - KMeans\n",
    "- Bias-Variance Trade-off\n",
    "    - Cross Validation\n",
    "    "
   ]
  },
  {
   "cell_type": "markdown",
   "metadata": {},
   "source": [
    "### Other Important Topics"
   ]
  },
  {
   "cell_type": "markdown",
   "metadata": {},
   "source": [
    "- `metrics`\n",
    "    - classification reports\n",
    "    - confusion matrix\n",
    "    - f1 score\n",
    "    - ROC curves\n",
    "    - ROC area\n",
    "- Other `estimators`\n",
    "    - SVM\n",
    "    - Trees\n",
    "    - and many more...\n",
    "- Kfold CV\n",
    "- Grid search, Random search\n",
    "- Text methods\n",
    "- Parallel execution\n",
    "\n",
    "    "
   ]
  },
  {
   "cell_type": "code",
   "execution_count": null,
   "metadata": {
    "collapsed": false
   },
   "outputs": [],
   "source": []
  }
 ],
 "metadata": {
  "kernelspec": {
   "display_name": "Python 2",
   "language": "python",
   "name": "python2"
  },
  "language_info": {
   "codemirror_mode": {
    "name": "ipython",
    "version": 2
   },
   "file_extension": ".py",
   "mimetype": "text/x-python",
   "name": "python",
   "nbconvert_exporter": "python",
   "pygments_lexer": "ipython2",
   "version": "2.7.11"
  }
 },
 "nbformat": 4,
 "nbformat_minor": 0
}
