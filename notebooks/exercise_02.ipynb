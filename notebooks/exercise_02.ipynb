{
 "cells": [
  {
   "cell_type": "markdown",
   "metadata": {
    "collapsed": true
   },
   "source": [
    "# Zillow"
   ]
  },
  {
   "cell_type": "markdown",
   "metadata": {},
   "source": [
    "The `zillow.csv` file contains several recently sold houses in the Boulder area.  \n",
    "\n",
    "How well can you predict home sale prices?"
   ]
  },
  {
   "cell_type": "code",
   "execution_count": 17,
   "metadata": {
    "collapsed": false
   },
   "outputs": [
    {
     "data": {
      "text/plain": [
       "['address',\n",
       " 'baths',\n",
       " 'beds',\n",
       " 'city',\n",
       " 'date_sold',\n",
       " 'hoa_fee',\n",
       " 'last_sold_price',\n",
       " 'latitude',\n",
       " 'longitude',\n",
       " 'parking',\n",
       " 'price',\n",
       " 'property_value',\n",
       " 'rent_high',\n",
       " 'rent_low',\n",
       " 'rent_value',\n",
       " 'sqft',\n",
       " 'tax_assessed_value',\n",
       " 'tax_rate',\n",
       " 'type',\n",
       " 'year_built',\n",
       " 'zest_high',\n",
       " 'zest_low',\n",
       " 'zest_value',\n",
       " 'zestimate']"
      ]
     },
     "execution_count": 17,
     "metadata": {},
     "output_type": "execute_result"
    }
   ],
   "source": [
    "%matplotlib inline\n",
    "import pandas as pd\n",
    "\n",
    "df = pd.read_csv(\"zillow.csv\", parse_dates=['date_sold'])\n",
    "[x for x in df.columns]"
   ]
  },
  {
   "cell_type": "code",
   "execution_count": 18,
   "metadata": {
    "collapsed": false
   },
   "outputs": [
    {
     "name": "stderr",
     "output_type": "stream",
     "text": [
      "/Users/david/anaconda/envs/boulderdatascience/lib/python2.7/site-packages/ipykernel/__main__.py:6: FutureWarning: pd.rolling_mean is deprecated for DataFrame and will be removed in a future version, replace with \n",
      "\tDataFrame.rolling(window=30,center=False).mean()\n"
     ]
    },
    {
     "data": {
      "text/plain": [
       "<matplotlib.axes._subplots.AxesSubplot at 0x110caa7d0>"
      ]
     },
     "execution_count": 18,
     "metadata": {},
     "output_type": "execute_result"
    },
    {
     "data": {
      "image/png": "[encoded data removed]",
      "text/plain": [
       "<matplotlib.figure.Figure at 0x115c68b10>"
      ]
     },
     "metadata": {},
     "output_type": "display_data"
    }
   ],
   "source": [
    "df.dropna(inplace=True)\n",
    "df.sort_values(by=\"date_sold\", inplace=True)\n",
    "\n",
    "price = df[['date_sold', 'price']]\n",
    "\n",
    "pd.rolling_mean(price.groupby('date_sold').agg('mean'), window=30).dropna().plot()"
   ]
  },
  {
   "cell_type": "markdown",
   "metadata": {
    "collapsed": true
   },
   "source": [
    "Consider a few other models..."
   ]
  },
  {
   "cell_type": "code",
   "execution_count": 19,
   "metadata": {
    "collapsed": true
   },
   "outputs": [],
   "source": [
    "from sklearn.linear_model import LinearRegression\n",
    "from sklearn.linear_model import Ridge\n",
    "from sklearn.linear_model import Lasso\n",
    "from sklearn.linear_model import BayesianRidge\n",
    "from sklearn.neighbors import KNeighborsRegressor"
   ]
  },
  {
   "cell_type": "markdown",
   "metadata": {},
   "source": [
    "Maybe these will be useful"
   ]
  },
  {
   "cell_type": "code",
   "execution_count": 20,
   "metadata": {
    "collapsed": true
   },
   "outputs": [],
   "source": [
    "from sklearn.preprocessing import StandardScaler\n",
    "from sklearn.preprocessing import OneHotEncoder\n",
    "from sklearn.preprocessing import LabelEncoder"
   ]
  },
  {
   "cell_type": "markdown",
   "metadata": {},
   "source": [
    "If you are feeling it..."
   ]
  },
  {
   "cell_type": "code",
   "execution_count": 21,
   "metadata": {
    "collapsed": true
   },
   "outputs": [],
   "source": [
    "from sklearn import cross_validation"
   ]
  },
  {
   "cell_type": "code",
   "execution_count": 138,
   "metadata": {
    "collapsed": false
   },
   "outputs": [],
   "source": [
    "X = df[['sqft', 'beds', 'baths', 'year_built', 'tax_rate']]\n",
    "y = df['price']"
   ]
  },
  {
   "cell_type": "code",
   "execution_count": 142,
   "metadata": {
    "collapsed": false
   },
   "outputs": [
    {
     "data": {
      "text/plain": [
       "KNeighborsRegressor(algorithm='auto', leaf_size=30, metric='minkowski',\n",
       "          metric_params=None, n_jobs=1, n_neighbors=5, p=2,\n",
       "          weights='uniform')"
      ]
     },
     "execution_count": 142,
     "metadata": {},
     "output_type": "execute_result"
    }
   ],
   "source": [
    "regr = KNeighborsRegressor()\n",
    "regr.fit(X, y)"
   ]
  },
  {
   "cell_type": "code",
   "execution_count": 146,
   "metadata": {
    "collapsed": false
   },
   "outputs": [
    {
     "data": {
      "text/plain": [
       "[(KNeighborsRegressor(algorithm='auto', leaf_size=30, metric='minkowski',\n",
       "            metric_params=None, n_jobs=1, n_neighbors=5, p=2,\n",
       "            weights='uniform'), 0.75983950636022057),\n",
       " (LinearRegression(copy_X=True, fit_intercept=True, n_jobs=1, normalize=False),\n",
       "  0.67305661948759077)]"
      ]
     },
     "execution_count": 146,
     "metadata": {},
     "output_type": "execute_result"
    }
   ],
   "source": [
    "[(x.fit(X, y), x.score(X, y)) for x in [KNeighborsRegressor(), LinearRegression()]]"
   ]
  },
  {
   "cell_type": "code",
   "execution_count": 147,
   "metadata": {
    "collapsed": true
   },
   "outputs": [],
   "source": [
    "import numpy as np"
   ]
  },
  {
   "cell_type": "code",
   "execution_count": 148,
   "metadata": {
    "collapsed": false
   },
   "outputs": [
    {
     "data": {
      "text/plain": [
       "0.75983950636022057"
      ]
     },
     "execution_count": 148,
     "metadata": {},
     "output_type": "execute_result"
    }
   ],
   "source": [
    "regr.score(X, y)"
   ]
  },
  {
   "cell_type": "code",
   "execution_count": 137,
   "metadata": {
    "collapsed": false
   },
   "outputs": [
    {
     "data": {
      "text/plain": [
       "1975    0.0054\n",
       "2305    0.0054\n",
       "3344    0.0054\n",
       "159     0.0054\n",
       "4620    0.0054\n",
       "1499    0.0054\n",
       "2920    0.0054\n",
       "1786    0.0054\n",
       "5794    0.0054\n",
       "5500    0.0054\n",
       "5407    0.0054\n",
       "408     0.0054\n",
       "2124    0.0054\n",
       "3835    0.0054\n",
       "5488    0.0054\n",
       "3939    0.0054\n",
       "5018    0.0054\n",
       "3700    0.0054\n",
       "2979    0.0054\n",
       "1272    0.0054\n",
       "4860    0.0054\n",
       "1591    0.0054\n",
       "3637    0.0054\n",
       "6060    0.0054\n",
       "3037    0.0054\n",
       "5110    0.0054\n",
       "3330    0.0054\n",
       "5506    0.0054\n",
       "2400    0.0054\n",
       "3147    0.0054\n",
       "         ...  \n",
       "5157    0.0054\n",
       "4111    0.0054\n",
       "1650    0.0054\n",
       "2047    0.0054\n",
       "660     0.0054\n",
       "1464    0.0054\n",
       "2593    0.0054\n",
       "617     0.0054\n",
       "5636    0.0054\n",
       "1448    0.0054\n",
       "5556    0.0054\n",
       "2762    0.0054\n",
       "5655    0.0054\n",
       "1707    0.0054\n",
       "2262    0.0054\n",
       "1992    0.0054\n",
       "3778    0.0054\n",
       "5385    0.0054\n",
       "3636    0.0054\n",
       "448     0.0054\n",
       "1229    0.0054\n",
       "6052    0.0054\n",
       "2897    0.0054\n",
       "4155    0.0054\n",
       "4404    0.0054\n",
       "1342    0.0054\n",
       "1631    0.0054\n",
       "4193    0.0054\n",
       "4078    0.0054\n",
       "3229    0.0054\n",
       "Name: tax_rate, dtype: float64"
      ]
     },
     "execution_count": 137,
     "metadata": {},
     "output_type": "execute_result"
    }
   ],
   "source": [
    "df['tax_rate']"
   ]
  },
  {
   "cell_type": "code",
   "execution_count": 92,
   "metadata": {
    "collapsed": false
   },
   "outputs": [],
   "source": [
    "X_new = np.linspace(0, X.max()[0], 5)[:, np.newaxis] # to make it (n, m)\n",
    "y_pred = regr.predict(X_new)"
   ]
  },
  {
   "cell_type": "code",
   "execution_count": 93,
   "metadata": {
    "collapsed": false
   },
   "outputs": [],
   "source": [
    "import matplotlib.pyplot as plt\n",
    "\n",
    "colors = plt.rcParams['axes.color_cycle']\n",
    "\n",
    "def plot():\n",
    "    fig, ax = plt.subplots()\n",
    "\n",
    "    ax.plot(X_new[:,0], y_pred, color='darkgrey', linewidth=2)\n",
    "    ax.scatter(X, y, s=100, alpha=0.75, c=colors[0])\n",
    "\n",
    "    ax.set_xlabel('X')\n",
    "    ax.set_ylabel('y')"
   ]
  },
  {
   "cell_type": "code",
   "execution_count": 94,
   "metadata": {
    "collapsed": false
   },
   "outputs": [
    {
     "data": {
      "image/png": "[encoded data removed]",
      "text/plain": [
       "<matplotlib.figure.Figure at 0x115e23c90>"
      ]
     },
     "metadata": {},
     "output_type": "display_data"
    }
   ],
   "source": [
    "plot()"
   ]
  },
  {
   "cell_type": "code",
   "execution_count": null,
   "metadata": {
    "collapsed": true
   },
   "outputs": [],
   "source": []
  },
  {
   "cell_type": "code",
   "execution_count": null,
   "metadata": {
    "collapsed": true
   },
   "outputs": [],
   "source": []
  }
 ],
 "metadata": {
  "kernelspec": {
   "display_name": "Python 2",
   "language": "python",
   "name": "python2"
  },
  "language_info": {
   "codemirror_mode": {
    "name": "ipython",
    "version": 2
   },
   "file_extension": ".py",
   "mimetype": "text/x-python",
   "name": "python",
   "nbconvert_exporter": "python",
   "pygments_lexer": "ipython2",
   "version": "2.7.11"
  }
 },
 "nbformat": 4,
 "nbformat_minor": 0
}
